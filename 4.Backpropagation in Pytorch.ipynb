{
 "cells": [
  {
   "cell_type": "code",
   "execution_count": 3,
   "id": "f3bd8af6",
   "metadata": {},
   "outputs": [
    {
     "name": "stdout",
     "output_type": "stream",
     "text": [
      "Gradient of z is : tensor(1.)\n",
      "Gradient of y is : tensor(5.)\n",
      "Gradient of y is : tensor(5.)\n"
     ]
    }
   ],
   "source": [
    "import torch\n",
    "\n",
    "x=torch.tensor(4.,requires_grad=True)\n",
    "y=torch.tensor(-3.,requires_grad=True)\n",
    "z=torch.tensor(5.,requires_grad=True)\n",
    "\n",
    "q=x+y\n",
    "f=q*z\n",
    "\n",
    "#PyTorch türev hesaplamasını söyleriz\n",
    "f.backward()\n",
    "\n",
    "print(\"Gradient of z is : \"+str(z.grad))\n",
    "print(\"Gradient of y is : \"+str(y.grad))\n",
    "print(\"Gradient of y is : \"+str(x.grad))"
   ]
  },
  {
   "cell_type": "code",
   "execution_count": null,
   "id": "a9de65a6",
   "metadata": {},
   "outputs": [],
   "source": []
  }
 ],
 "metadata": {
  "kernelspec": {
   "display_name": "Python 3",
   "language": "python",
   "name": "python3"
  },
  "language_info": {
   "codemirror_mode": {
    "name": "ipython",
    "version": 3
   },
   "file_extension": ".py",
   "mimetype": "text/x-python",
   "name": "python",
   "nbconvert_exporter": "python",
   "pygments_lexer": "ipython3",
   "version": "3.8.8"
  }
 },
 "nbformat": 4,
 "nbformat_minor": 5
}
