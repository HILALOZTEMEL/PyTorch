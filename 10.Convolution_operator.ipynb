{
  "nbformat": 4,
  "nbformat_minor": 0,
  "metadata": {
    "colab": {
      "name": "10.Convolution operator.ipynb",
      "provenance": [],
      "authorship_tag": "ABX9TyN/wRlZHtklDxzR52lzhqCc",
      "include_colab_link": true
    },
    "kernelspec": {
      "name": "python3",
      "display_name": "Python 3"
    },
    "language_info": {
      "name": "python"
    }
  },
  "cells": [
    {
      "cell_type": "markdown",
      "metadata": {
        "id": "view-in-github",
        "colab_type": "text"
      },
      "source": [
        "<a href=\"https://colab.research.google.com/github/HILALOZTEMEL/PyTorch/blob/main/10.Convolution_operator.ipynb\" target=\"_parent\"><img src=\"https://colab.research.google.com/assets/colab-badge.svg\" alt=\"Open In Colab\"/></a>"
      ]
    },
    {
      "cell_type": "markdown",
      "source": [
        "OOP_BASED"
      ],
      "metadata": {
        "id": "DAsVD_peF5hN"
      }
    },
    {
      "cell_type": "markdown",
      "source": [
        "her iki durumdada , her bir şekil (3,32,32 ) olan 16 görüntüden oluşan mini iş var ve istediğimiz  (5x5 ) lik adım 1 ve dolgusuz tek bir evrişim yapmak(kanallar , filtre boyutu , adım , dolgu ). Bu parametrelerden Conv2d filtresi oluşturmamız gerekiyor.\n",
        "padding eklemek istersek padding=1 dememiz yeterli"
      ],
      "metadata": {
        "id": "y4YEoR54IIqs"
      }
    },
    {
      "cell_type": "code",
      "execution_count": null,
      "metadata": {
        "colab": {
          "base_uri": "https://localhost:8080/"
        },
        "id": "hUarCsdYDtgd",
        "outputId": "849737fe-9d80-456e-b79e-65190b8937f6"
      },
      "outputs": [
        {
          "output_type": "stream",
          "name": "stdout",
          "text": [
            "torch.Size([16, 1, 28, 28])\n"
          ]
        }
      ],
      "source": [
        "import torch\n",
        "import torch.nn\n",
        "\n",
        "image=torch.rand(16,3,32,32)\n",
        "conv_filter=torch.nn.Conv2d(in_channels=3,out_channels=1,kernel_size=5,stride=1,padding=0)\n",
        "output_feature=conv_filter(image)\n",
        "print(output_feature.shape)"
      ]
    },
    {
      "cell_type": "markdown",
      "source": [
        "Functional"
      ],
      "metadata": {
        "id": "RJbALoWfHNev"
      }
    },
    {
      "cell_type": "code",
      "source": [
        "import torch\n",
        "import torch.nn.functional as F\n",
        "\n",
        "image=torch.rand(16,3,32,32)\n",
        "filter=torch.rand(1,3,5,5)\n",
        "out_feat_F=F.conv2d(image,filter,stride=1,padding=0)\n",
        "\n",
        "print(out_feat_F.shape)\n"
      ],
      "metadata": {
        "colab": {
          "base_uri": "https://localhost:8080/"
        },
        "id": "_7bA1Zl4HVE1",
        "outputId": "22e56be2-7472-4a84-cb7d-6a8a65ea79b7"
      },
      "execution_count": null,
      "outputs": [
        {
          "output_type": "stream",
          "name": "stdout",
          "text": [
            "torch.Size([16, 1, 28, 28])\n"
          ]
        }
      ]
    }
  ]
}