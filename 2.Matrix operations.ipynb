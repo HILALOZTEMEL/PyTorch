{
 "cells": [
  {
   "cell_type": "code",
   "execution_count": 7,
   "id": "5d7c2d31",
   "metadata": {},
   "outputs": [
    {
     "data": {
      "text/plain": [
       "tensor([[0.5107, 0.4258],\n",
       "        [0.5085, 0.1778]])"
      ]
     },
     "execution_count": 7,
     "metadata": {},
     "output_type": "execute_result"
    }
   ],
   "source": [
    "import torch\n",
    "\n",
    "a=torch.rand((2,2))\n",
    "b=torch.rand((2,2))\n",
    "a\n"
   ]
  },
  {
   "cell_type": "code",
   "execution_count": 8,
   "id": "5dc89528",
   "metadata": {},
   "outputs": [
    {
     "data": {
      "text/plain": [
       "tensor([[0.7410, 0.7256],\n",
       "        [0.0662, 0.7665]])"
      ]
     },
     "execution_count": 8,
     "metadata": {},
     "output_type": "execute_result"
    }
   ],
   "source": [
    "b"
   ]
  },
  {
   "cell_type": "code",
   "execution_count": 9,
   "id": "efbce138",
   "metadata": {},
   "outputs": [
    {
     "data": {
      "text/plain": [
       "tensor([[0.4066, 0.6970],\n",
       "        [0.3886, 0.5053]])"
      ]
     },
     "execution_count": 9,
     "metadata": {},
     "output_type": "execute_result"
    }
   ],
   "source": [
    "torch.matmul(a,b)"
   ]
  },
  {
   "cell_type": "code",
   "execution_count": 10,
   "id": "1b069eec",
   "metadata": {},
   "outputs": [
    {
     "data": {
      "text/plain": [
       "array([[0.4104892 , 0.29291389],\n",
       "       [1.17965593, 0.82764002]])"
      ]
     },
     "execution_count": 10,
     "metadata": {},
     "output_type": "execute_result"
    }
   ],
   "source": [
    "import numpy as np\n",
    "\n",
    "a=np.random.rand(2,2)\n",
    "b=np.random.rand(2,2)\n",
    "\n",
    "np.dot(a,b)"
   ]
  },
  {
   "cell_type": "code",
   "execution_count": 13,
   "id": "b65b2a5a",
   "metadata": {},
   "outputs": [
    {
     "data": {
      "text/plain": [
       "tensor([[0.3714, 0.2837],\n",
       "        [0.4193, 0.3680]])"
      ]
     },
     "execution_count": 13,
     "metadata": {},
     "output_type": "execute_result"
    }
   ],
   "source": [
    "#pytorch ta\n",
    "a=torch.rand((2,2))\n",
    "b=torch.rand((2,2))\n",
    "a*b"
   ]
  },
  {
   "cell_type": "code",
   "execution_count": 15,
   "id": "179ea04f",
   "metadata": {},
   "outputs": [
    {
     "data": {
      "text/plain": [
       "array([[0.10642522, 0.20140924],\n",
       "       [0.09378891, 0.49622308]])"
      ]
     },
     "execution_count": 15,
     "metadata": {},
     "output_type": "execute_result"
    }
   ],
   "source": [
    "#numpy da\n",
    "a=np.random.rand(2,2)\n",
    "b=np.random.rand(2,2)\n",
    "\n",
    "np.multiply(a,b)"
   ]
  },
  {
   "cell_type": "markdown",
   "id": "566a5b39",
   "metadata": {},
   "source": [
    "# ZERO AND ONES MATRİX"
   ]
  },
  {
   "cell_type": "code",
   "execution_count": 17,
   "id": "9e766eab",
   "metadata": {},
   "outputs": [
    {
     "data": {
      "text/plain": [
       "tensor([[0., 0.],\n",
       "        [0., 0.]])"
      ]
     },
     "execution_count": 17,
     "metadata": {},
     "output_type": "execute_result"
    }
   ],
   "source": [
    "a_torch=torch.zeros(2,2)\n",
    "a_torch"
   ]
  },
  {
   "cell_type": "code",
   "execution_count": 19,
   "id": "b11525cd",
   "metadata": {},
   "outputs": [
    {
     "data": {
      "text/plain": [
       "array([[0., 0.],\n",
       "       [0., 0.]])"
      ]
     },
     "execution_count": 19,
     "metadata": {},
     "output_type": "execute_result"
    }
   ],
   "source": [
    "a_numpy=np.zeros((2,2))\n",
    "a_numpy"
   ]
  },
  {
   "cell_type": "code",
   "execution_count": 20,
   "id": "42df1a6f",
   "metadata": {},
   "outputs": [
    {
     "data": {
      "text/plain": [
       "tensor([[1., 1.],\n",
       "        [1., 1.]])"
      ]
     },
     "execution_count": 20,
     "metadata": {},
     "output_type": "execute_result"
    }
   ],
   "source": [
    "b_torch=torch.ones(2,2)\n",
    "b_torch"
   ]
  },
  {
   "cell_type": "code",
   "execution_count": 21,
   "id": "50e2d267",
   "metadata": {},
   "outputs": [
    {
     "data": {
      "text/plain": [
       "array([[1., 1.],\n",
       "       [1., 1.]])"
      ]
     },
     "execution_count": 21,
     "metadata": {},
     "output_type": "execute_result"
    }
   ],
   "source": [
    "b_numpy=np.ones((2,2))\n",
    "b_numpy"
   ]
  },
  {
   "cell_type": "code",
   "execution_count": 22,
   "id": "c3da780f",
   "metadata": {},
   "outputs": [
    {
     "data": {
      "text/plain": [
       "tensor([[1., 0.],\n",
       "        [0., 1.]])"
      ]
     },
     "execution_count": 22,
     "metadata": {},
     "output_type": "execute_result"
    }
   ],
   "source": [
    "#birim matris\n",
    "c_torch=torch.eye(2)\n",
    "c_torch"
   ]
  },
  {
   "cell_type": "code",
   "execution_count": 23,
   "id": "02db82fd",
   "metadata": {},
   "outputs": [
    {
     "data": {
      "text/plain": [
       "array([[1., 0.],\n",
       "       [0., 1.]])"
      ]
     },
     "execution_count": 23,
     "metadata": {},
     "output_type": "execute_result"
    }
   ],
   "source": [
    "c_numpy=np.identity(2)\n",
    "c_numpy"
   ]
  },
  {
   "cell_type": "code",
   "execution_count": null,
   "id": "e5cdfc1d",
   "metadata": {},
   "outputs": [],
   "source": []
  }
 ],
 "metadata": {
  "kernelspec": {
   "display_name": "Python 3",
   "language": "python",
   "name": "python3"
  },
  "language_info": {
   "codemirror_mode": {
    "name": "ipython",
    "version": 3
   },
   "file_extension": ".py",
   "mimetype": "text/x-python",
   "name": "python",
   "nbconvert_exporter": "python",
   "pygments_lexer": "ipython3",
   "version": "3.8.8"
  }
 },
 "nbformat": 4,
 "nbformat_minor": 5
}
