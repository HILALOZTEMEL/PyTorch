{
  "nbformat": 4,
  "nbformat_minor": 0,
  "metadata": {
    "colab": {
      "name": "15.The problem of overfitting.ipynb",
      "provenance": [],
      "authorship_tag": "ABX9TyNHQ5eHcwAjWqzjpc2G6UR+",
      "include_colab_link": true
    },
    "kernelspec": {
      "name": "python3",
      "display_name": "Python 3"
    },
    "language_info": {
      "name": "python"
    }
  },
  "cells": [
    {
      "cell_type": "markdown",
      "metadata": {
        "id": "view-in-github",
        "colab_type": "text"
      },
      "source": [
        "<a href=\"https://colab.research.google.com/github/HILALOZTEMEL/PyTorch/blob/main/15_The_problem_of_overfitting.ipynb\" target=\"_parent\"><img src=\"https://colab.research.google.com/assets/colab-badge.svg\" alt=\"Open In Colab\"/></a>"
      ]
    },
    {
      "cell_type": "markdown",
      "source": [
        "Derin öğrenmedeki en büyük sorun, modelin (sinir ağı) eğitim setinde çok iyi çalışıyor, ancak performansı test setinde çok daha kötü.\n",
        "\n",
        "Bu genellikle , yeşil olan karmaşık ve düzgün olmayan bir hipotezimiz(veya ayırıcımız) olduğunda olur."
      ],
      "metadata": {
        "id": "dNqEt7J8i9Ge"
      }
    },
    {
      "cell_type": "markdown",
      "source": [
        "**Using validation sets in PyTorch**"
      ],
      "metadata": {
        "id": "r7ggXbfgwYDc"
      }
    },
    {
      "cell_type": "code",
      "execution_count": null,
      "metadata": {
        "id": "ltId_dGkdpjZ"
      },
      "outputs": [],
      "source": [
        "indices = np.arange(50000)\n",
        "np.random.shuffle(indices)\n",
        "train_loader = torch.utils.data.DataLoader(    \n",
        "    datasets.CIFAR10(root='./data', train=True, download=True,                   \n",
        "                     transform=transforms.Compose([transforms.ToTensor(),                                    \n",
        "                     transforms.Normalize((0.485, 0.456, 0.406), (0.229, 0.224, 0.225))])),                       \n",
        "                     batch_size=1, shuffle=False, sampler=torch.utils.data.SubsetRandomSampler(indices[:45000]))\n",
        "val_loader = torch.utils.data.DataLoader(   \n",
        "     datasets.CIFAR10(root='./data', train=True, download=True,                  \n",
        "                 transform=transforms.Compose([transforms.ToTensor(),                                    \n",
        "                 transforms.Normalize((0.485, 0.456, 0.406), (0.229, 0.224, 0.225))])),                       \n",
        "                 batch_size=1, shuffle=False, sampler=torch.utils.data.SubsetRandomSampler(indices[45000:50000]))    \n"
      ]
    },
    {
      "cell_type": "markdown",
      "source": [
        ""
      ],
      "metadata": {
        "id": "N9SqphGAwNVQ"
      }
    },
    {
      "cell_type": "code",
      "source": [
        ""
      ],
      "metadata": {
        "id": "88IEDEw9i6Y-"
      },
      "execution_count": null,
      "outputs": []
    }
  ]
}