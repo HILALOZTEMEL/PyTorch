{
 "cells": [
  {
   "cell_type": "code",
   "execution_count": 4,
   "id": "570922bc",
   "metadata": {},
   "outputs": [
    {
     "name": "stdout",
     "output_type": "stream",
     "text": [
      "tensor([282.8623, 286.8356, 214.6664, 291.7840])\n"
     ]
    }
   ],
   "source": [
    "import torch\n",
    "\n",
    "input_layer=torch.rand(10)\n",
    "\n",
    "w1=torch.rand(10,20)\n",
    "w2=torch.rand(20,20)\n",
    "w3=torch.rand(20,4)\n",
    "\n",
    "h1=torch.matmul(input_layer,w1)\n",
    "h2=torch.matmul(h1,w2)\n",
    "\n",
    "output_layer=torch.matmul(h2,w3)\n",
    "print(output_layer)"
   ]
  },
  {
   "cell_type": "code",
   "execution_count": null,
   "id": "d1bce948",
   "metadata": {},
   "outputs": [],
   "source": []
  }
 ],
 "metadata": {
  "kernelspec": {
   "display_name": "Python 3",
   "language": "python",
   "name": "python3"
  },
  "language_info": {
   "codemirror_mode": {
    "name": "ipython",
    "version": 3
   },
   "file_extension": ".py",
   "mimetype": "text/x-python",
   "name": "python",
   "nbconvert_exporter": "python",
   "pygments_lexer": "ipython3",
   "version": "3.8.8"
  }
 },
 "nbformat": 4,
 "nbformat_minor": 5
}
